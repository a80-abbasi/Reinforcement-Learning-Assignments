{
  "cells": [
    {
      "cell_type": "markdown",
      "metadata": {
        "id": "1ekcge5vHPpR"
      },
      "source": [
        "# Installations and Imports"
      ]
    },
    {
      "cell_type": "code",
      "execution_count": 24,
      "metadata": {
        "colab": {
          "base_uri": "https://localhost:8080/"
        },
        "id": "iJ6K6gUyFP8v",
        "outputId": "ddcae498-f19a-4e89-e3b1-459295de2f6a"
      },
      "outputs": [
        {
          "output_type": "stream",
          "name": "stdout",
          "text": [
            "Hit:1 https://cloud.r-project.org/bin/linux/ubuntu focal-cran40/ InRelease\n",
            "Hit:2 http://ppa.launchpad.net/c2d4u.team/c2d4u4.0+/ubuntu focal InRelease\n",
            "Hit:3 http://security.ubuntu.com/ubuntu focal-security InRelease\n",
            "Hit:4 http://archive.ubuntu.com/ubuntu focal InRelease\n",
            "Hit:5 http://ppa.launchpad.net/cran/libgit2/ubuntu focal InRelease\n",
            "Ign:6 https://developer.download.nvidia.com/compute/machine-learning/repos/ubuntu2004/x86_64  InRelease\n",
            "Hit:7 https://developer.download.nvidia.com/compute/cuda/repos/ubuntu2004/x86_64  InRelease\n",
            "Hit:8 https://developer.download.nvidia.com/compute/machine-learning/repos/ubuntu2004/x86_64  Release\n",
            "Hit:9 http://archive.ubuntu.com/ubuntu focal-updates InRelease\n",
            "Hit:11 http://ppa.launchpad.net/deadsnakes/ppa/ubuntu focal InRelease\n",
            "Hit:12 http://archive.ubuntu.com/ubuntu focal-backports InRelease\n",
            "Hit:13 http://ppa.launchpad.net/graphics-drivers/ppa/ubuntu focal InRelease\n",
            "Hit:14 http://ppa.launchpad.net/ubuntugis/ppa/ubuntu focal InRelease\n",
            "Reading package lists... Done\n",
            "Looking in indexes: https://pypi.org/simple, https://us-python.pkg.dev/colab-wheels/public/simple/\n",
            "Requirement already satisfied: imageio in /usr/local/lib/python3.9/dist-packages (2.4.0)\n",
            "Requirement already satisfied: numpy in /usr/local/lib/python3.9/dist-packages (from imageio) (1.22.4)\n",
            "Requirement already satisfied: pillow in /usr/local/lib/python3.9/dist-packages (from imageio) (8.4.0)\n",
            "Reading package lists... Done\n",
            "Building dependency tree       \n",
            "Reading state information... Done\n",
            "ffmpeg is already the newest version (7:4.2.7-0ubuntu0.1).\n",
            "xvfb is already the newest version (2:1.20.13-1ubuntu1~20.04.6).\n",
            "0 upgraded, 0 newly installed, 0 to remove and 27 not upgraded.\n",
            "Looking in indexes: https://pypi.org/simple, https://us-python.pkg.dev/colab-wheels/public/simple/\n",
            "Requirement already satisfied: gymnasium[classic_control] in /usr/local/lib/python3.9/dist-packages (0.27.1)\n",
            "Requirement already satisfied: numpy>=1.21.0 in /usr/local/lib/python3.9/dist-packages (from gymnasium[classic_control]) (1.22.4)\n",
            "Requirement already satisfied: cloudpickle>=1.2.0 in /usr/local/lib/python3.9/dist-packages (from gymnasium[classic_control]) (2.2.1)\n",
            "Requirement already satisfied: gymnasium-notices>=0.0.1 in /usr/local/lib/python3.9/dist-packages (from gymnasium[classic_control]) (0.0.1)\n",
            "Requirement already satisfied: importlib-metadata>=4.8.0 in /usr/local/lib/python3.9/dist-packages (from gymnasium[classic_control]) (6.0.0)\n",
            "Requirement already satisfied: typing-extensions>=4.3.0 in /usr/local/lib/python3.9/dist-packages (from gymnasium[classic_control]) (4.5.0)\n",
            "Requirement already satisfied: jax-jumpy>=0.2.0 in /usr/local/lib/python3.9/dist-packages (from gymnasium[classic_control]) (0.2.0)\n",
            "Requirement already satisfied: pygame==2.1.3.dev8 in /usr/local/lib/python3.9/dist-packages (from gymnasium[classic_control]) (2.1.3.dev8)\n",
            "Requirement already satisfied: zipp>=0.5 in /usr/local/lib/python3.9/dist-packages (from importlib-metadata>=4.8.0->gymnasium[classic_control]) (3.15.0)\n",
            "Looking in indexes: https://pypi.org/simple, https://us-python.pkg.dev/colab-wheels/public/simple/\n",
            "Requirement already satisfied: imageio-ffmpeg in /usr/local/lib/python3.9/dist-packages (0.4.8)\n"
          ]
        }
      ],
      "source": [
        "!sudo apt-get update\n",
        "!pip install imageio\n",
        "!sudo apt-get install -y xvfb ffmpeg\n",
        "!pip3 install gymnasium[classic_control]\n",
        "!pip install imageio-ffmpeg"
      ]
    },
    {
      "cell_type": "code",
      "execution_count": 25,
      "metadata": {
        "id": "lzUJnJrQEN1r"
      },
      "outputs": [],
      "source": [
        "import math\n",
        "import base64\n",
        "import random\n",
        "import imageio\n",
        "import IPython\n",
        "import matplotlib\n",
        "import gymnasium as gym\n",
        "from itertools import count\n",
        "import matplotlib.pyplot as plt\n",
        "from collections import namedtuple, deque\n",
        "\n",
        "import torch\n",
        "import torch.nn as nn\n",
        "import torch.optim as optim\n",
        "import torch.nn.functional as F\n",
        "\n",
        "import numpy as np\n",
        "\n",
        "DEVICE = torch.device(\"cuda\" if torch.cuda.is_available() else \"cpu\")"
      ]
    },
    {
      "cell_type": "markdown",
      "metadata": {
        "id": "csY30Op-HVgu"
      },
      "source": [
        "# Utility functions for rendering evironment"
      ]
    },
    {
      "cell_type": "code",
      "execution_count": 26,
      "metadata": {
        "id": "B_g_w4-VFqXz"
      },
      "outputs": [],
      "source": [
        "def embed_mp4(filename):\n",
        "  \n",
        "    video = open(filename,'rb').read()\n",
        "    b64 = base64.b64encode(video)\n",
        "    tag = '''\n",
        "    <video width=\"640\" height=\"480\" controls>\n",
        "    <source src=\"data:video/mp4;base64,{0}\" type=\"video/mp4\">\n",
        "    Your browser does not support the video tag.\n",
        "    </video>'''.format(b64.decode())\n",
        "    \n",
        "    return IPython.display.HTML(tag)"
      ]
    },
    {
      "cell_type": "code",
      "execution_count": 27,
      "metadata": {
        "id": "IH96rj7THfsS"
      },
      "outputs": [],
      "source": [
        "def create_policy_eval_video(env, policy, filename, num_episodes=1, fps=30):\n",
        "  \n",
        "    filename = filename + \".mp4\"\n",
        "    with imageio.get_writer(filename, fps=fps) as video:\n",
        "        for _ in range(num_episodes):\n",
        "            state, info = env.reset()\n",
        "            video.append_data(env.render())\n",
        "            while True:\n",
        "                state = torch.from_numpy(state).unsqueeze(0).to(DEVICE)\n",
        "                action = policy(state)\n",
        "                state, reward, terminated, truncated, _ = env.step(action.item())\n",
        "                video.append_data(env.render())\n",
        "                if terminated:\n",
        "                    break\n",
        "    return embed_mp4(filename)"
      ]
    },
    {
      "cell_type": "markdown",
      "metadata": {
        "id": "ozFEZ_bqH71W"
      },
      "source": [
        "# Replay Memory and Q-Network"
      ]
    },
    {
      "cell_type": "code",
      "execution_count": 28,
      "metadata": {
        "id": "84EJUO1JH7h4"
      },
      "outputs": [],
      "source": [
        "class ReplayMemory(object):\n",
        "\n",
        "    def __init__(self, capacity):\n",
        "        self.memory = deque([], maxlen=capacity)\n",
        "\n",
        "    def push(self, transition):\n",
        "        self.memory.append(transition)\n",
        "\n",
        "    def sample(self, batch_size):\n",
        "        return random.sample(self.memory, batch_size)\n",
        "\n",
        "    def __len__(self):\n",
        "        return len(self.memory)"
      ]
    },
    {
      "cell_type": "code",
      "execution_count": 29,
      "metadata": {
        "id": "WD_Av2C7IIZ4"
      },
      "outputs": [],
      "source": [
        "# Complete the Q-Network below. \n",
        "# The Q-Network takes a state as input and the output is a vector so that each element is the q-value for an action.\n",
        "\n",
        "class DQN(nn.Module):\n",
        "\n",
        "    def __init__(self, n_observations, n_actions):\n",
        "        super(DQN, self).__init__()\n",
        "        self.fc1 = nn.Linear(n_observations, 128)\n",
        "        self.fc2 = nn.Linear(128, 64)\n",
        "        self.fc3 = nn.Linear(64, n_actions)\n",
        "\n",
        "    def forward(self, x):\n",
        "        x = F.relu(self.fc1(x))\n",
        "        x = F.relu(self.fc2(x))\n",
        "        return self.fc3(x)"
      ]
    },
    {
      "cell_type": "markdown",
      "metadata": {
        "id": "f_ZW4F6SQeMZ"
      },
      "source": [
        "# Policies"
      ]
    },
    {
      "cell_type": "markdown",
      "metadata": {
        "id": "XJ6SfSblT_6f"
      },
      "source": [
        "Now we define 2 policies. We use greedy policy for evaluation and e-greedy during training."
      ]
    },
    {
      "cell_type": "code",
      "execution_count": 30,
      "metadata": {
        "id": "fokLsyg5Qc41"
      },
      "outputs": [],
      "source": [
        "# This function takes in a state and returns the best action according to your q-network.\n",
        "# Don't forget \"torch.no_grad()\". We don't want gradient flowing through our network. \n",
        "\n",
        "# state shape: (1, state_size) -> output shape: (1, 1)  \n",
        "def greedy_policy(qnet, state):\n",
        "    with torch.no_grad():\n",
        "        q_values = qnet(state)\n",
        "        action = torch.argmax(q_values, dim=-1, keepdim=True)\n",
        "    return action"
      ]
    },
    {
      "cell_type": "code",
      "execution_count": 31,
      "metadata": {
        "id": "_iE-12xgRc2y"
      },
      "outputs": [],
      "source": [
        "# state shape: (1, state_size) -> output shape: (1, 1)\n",
        "# Don't forget \"torch.no_grad()\". We don't want gradient flowing through our network.\n",
        "\n",
        "def e_greedy_policy(qnet, state, eps_threshold):\n",
        "    # With probability \"eps_threshold\" choose a random action \n",
        "    # and with probability 1-\"eps_threshold\" choose the best action according to your Q-Network.\n",
        "    if random.random() < eps_threshold:\n",
        "        action = torch.tensor([[random.randrange(2)]], device=DEVICE, dtype=torch.long)\n",
        "    else:\n",
        "        with torch.no_grad():\n",
        "            q_values = qnet(state)\n",
        "            action = torch.argmax(q_values, dim=-1, keepdim=True)\n",
        "    \n",
        "    return action"
      ]
    },
    {
      "cell_type": "markdown",
      "metadata": {
        "id": "0PvG1MpOK9mX"
      },
      "source": [
        "# Initial setup"
      ]
    },
    {
      "cell_type": "code",
      "execution_count": 38,
      "metadata": {
        "colab": {
          "base_uri": "https://localhost:8080/",
          "height": 539
        },
        "id": "5Sc1a-6ZLAE1",
        "outputId": "a76a2005-039e-4a9d-9345-1f68a31517d0"
      },
      "outputs": [
        {
          "output_type": "stream",
          "name": "stderr",
          "text": [
            "WARNING:imageio_ffmpeg:IMAGEIO FFMPEG_WRITER WARNING: input image is not divisible by macro_block_size=16, resizing from (600, 400) to (608, 400) to ensure video compatibility with most codecs and players. To prevent resizing, make your input image divisible by the macro_block_size or set the macro_block_size to 1 (risking incompatibility).\n"
          ]
        },
        {
          "output_type": "execute_result",
          "data": {
            "text/plain": [
              "<IPython.core.display.HTML object>"
            ],
            "text/html": [
              "\n",
              "    <video width=\"640\" height=\"480\" controls>\n",
              "    <source src=\"data:video/mp4;base64,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\" type=\"video/mp4\">\n",
              "    Your browser does not support the video tag.\n",
              "    </video>"
            ]
          },
          "metadata": {},
          "execution_count": 38
        }
      ],
      "source": [
        "BATCH_SIZE = 128\n",
        "GAMMA = torch.tensor(0.9, device=DEVICE)\n",
        "EPS_START = 0.9\n",
        "EPS_END = 0.05\n",
        "EPS_DECAY = 10000\n",
        "TAU = 0.005\n",
        "LR = 1e-4\n",
        "\n",
        "device = torch.device(\"cuda\" if torch.cuda.is_available() else \"cpu\")\n",
        "env = gym.make(\"CartPole-v1\", render_mode='rgb_array')\n",
        "n_actions = env.action_space.n\n",
        "state, info = env.reset()\n",
        "n_observations = len(state)\n",
        "q_network = DQN(n_observations, n_actions).to(device)\n",
        "target_network = DQN(n_observations, n_actions).to(device)\n",
        "optimizer = optim.Adam(q_network.parameters(), lr=LR)\n",
        "memory = ReplayMemory(10000)\n",
        "\n",
        "create_policy_eval_video(env, lambda s: greedy_policy(q_network, s), \"random_agent\")"
      ]
    },
    {
      "cell_type": "markdown",
      "metadata": {
        "id": "yWq08ZENXx6h"
      },
      "source": [
        "# Training"
      ]
    },
    {
      "cell_type": "code",
      "execution_count": 40,
      "metadata": {
        "colab": {
          "base_uri": "https://localhost:8080/",
          "height": 647
        },
        "id": "USGbCrKbFusn",
        "outputId": "3c7cca4b-26c4-4276-82f4-21b62e4b1a3b"
      },
      "outputs": [
        {
          "output_type": "stream",
          "name": "stderr",
          "text": [
            " 10%|█         | 1002/10000 [01:09<14:15, 10.52it/s]"
          ]
        },
        {
          "output_type": "stream",
          "name": "stdout",
          "text": [
            "\n",
            "Mean reward in last 1000 episodes: 22.619 -- eps:0.8191887203567859\n"
          ]
        },
        {
          "output_type": "stream",
          "name": "stderr",
          "text": [
            " 20%|██        | 2002/10000 [03:12<16:34,  8.04it/s]"
          ]
        },
        {
          "output_type": "stream",
          "name": "stdout",
          "text": [
            "\n",
            "Mean reward in last 1000 episodes: 40.397 -- eps:0.7459907357100178\n"
          ]
        },
        {
          "output_type": "stream",
          "name": "stderr",
          "text": [
            " 30%|███       | 3001/10000 [05:38<15:11,  7.68it/s]"
          ]
        },
        {
          "output_type": "stream",
          "name": "stdout",
          "text": [
            "\n",
            "Mean reward in last 1000 episodes: 47.558 -- eps:0.6797584602768005\n"
          ]
        },
        {
          "output_type": "stream",
          "name": "stderr",
          "text": [
            " 40%|████      | 4001/10000 [08:34<18:09,  5.50it/s]"
          ]
        },
        {
          "output_type": "stream",
          "name": "stdout",
          "text": [
            "\n",
            "Mean reward in last 1000 episodes: 57.578 -- eps:0.6198290191831616\n"
          ]
        },
        {
          "output_type": "stream",
          "name": "stderr",
          "text": [
            " 50%|█████     | 5000/10000 [12:14<14:42,  5.67it/s]"
          ]
        },
        {
          "output_type": "stream",
          "name": "stdout",
          "text": [
            "\n",
            "Mean reward in last 1000 episodes: 71.861 -- eps:0.5656026184396552\n"
          ]
        },
        {
          "output_type": "stream",
          "name": "stderr",
          "text": [
            " 60%|██████    | 6000/10000 [16:36<16:54,  3.94it/s]"
          ]
        },
        {
          "output_type": "stream",
          "name": "stdout",
          "text": [
            "\n",
            "Mean reward in last 1000 episodes: 85.989 -- eps:0.5165365420015177\n"
          ]
        },
        {
          "output_type": "stream",
          "name": "stderr",
          "text": [
            " 70%|██████▉   | 6999/10000 [21:04<08:31,  5.86it/s]"
          ]
        },
        {
          "output_type": "stream",
          "name": "stdout",
          "text": [
            "\n",
            "Mean reward in last 1000 episodes: 88.356 -- eps:0.47213972008407823\n"
          ]
        },
        {
          "output_type": "stream",
          "name": "stderr",
          "text": [
            " 80%|████████  | 8001/10000 [26:06<10:42,  3.11it/s]"
          ]
        },
        {
          "output_type": "stream",
          "name": "stdout",
          "text": [
            "\n",
            "Mean reward in last 1000 episodes: 98.933 -- eps:0.4319678143713\n"
          ]
        },
        {
          "output_type": "stream",
          "name": "stderr",
          "text": [
            " 90%|█████████ | 9001/10000 [30:14<02:51,  5.81it/s]"
          ]
        },
        {
          "output_type": "stream",
          "name": "stdout",
          "text": [
            "\n",
            "Mean reward in last 1000 episodes: 80.303 -- eps:0.3956187709285658\n"
          ]
        },
        {
          "output_type": "stream",
          "name": "stderr",
          "text": [
            "100%|██████████| 10000/10000 [33:59<00:00,  4.90it/s]"
          ]
        },
        {
          "output_type": "stream",
          "name": "stdout",
          "text": [
            "\n",
            "Mean reward in last 1000 episodes: 72.696 -- eps:0.36272879631176524\n",
            "Complete\n"
          ]
        },
        {
          "output_type": "stream",
          "name": "stderr",
          "text": [
            "\n"
          ]
        },
        {
          "output_type": "display_data",
          "data": {
            "text/plain": [
              "<Figure size 432x288 with 1 Axes>"
            ],
            "image/png": "[encoded data removed]"
          },
          "metadata": {
            "needs_background": "light"
          }
        }
      ],
      "source": [
        "import tqdm\n",
        "\n",
        "num_episodes = 10000\n",
        "print_every = 1000\n",
        "episode_returns = []\n",
        "episode_durations = []\n",
        "\n",
        "for i_episode in tqdm.tqdm(range(num_episodes)):\n",
        "\n",
        "    # ==================================== Your Code (Begin) ====================================\n",
        "    # 1. Start a new episode\n",
        "    # 2. Run the environment for 1 step using e-greedy policy\n",
        "    # 3. Add the (state, action, next_state, reward) to replay memory\n",
        "    # 4. Optimize your q_network for 1 iteration\n",
        "    #       4.1 Sample one batch from replay memory\n",
        "    #       4.2 Compute predicted state-action values using q_network\n",
        "    #       4.3 Compute expected state-action values using target_network (Don't forget \"no_grad\" because we don't want gradient through target_network)\n",
        "    #       4.4 Compute loss function and optimize q_network for 1 step\n",
        "    # 5. Soft update the weights of target_network\n",
        "    #       θ′ ← τ θ + (1 −τ )θ′\n",
        "    #       θ   is q_network weights\n",
        "    #       θ′  is target_network weights            \n",
        "    # 6. Keep track of the total reward for each episode to plot later\n",
        "\n",
        "    # ==================================== Your Code (End) ====================================  \n",
        "    eps_threshold = EPS_END + (EPS_START - EPS_END) * math.exp(-i_episode / EPS_DECAY)\n",
        "    state, info = env.reset()\n",
        "    total_reward = 0\n",
        "    for t in count():\n",
        "        action = e_greedy_policy(q_network, torch.from_numpy(state).unsqueeze(0).to(device), eps_threshold)\n",
        "        action = action.item()\n",
        "        next_state, reward, terminated, truncated, _ = env.step(action)\n",
        "        total_reward += reward\n",
        "        memory.push((state, action, next_state, reward, terminated))\n",
        "        if len(memory) > BATCH_SIZE:\n",
        "            sample = memory.sample(BATCH_SIZE)\n",
        "            state_batch, action_batch, next_state_batch, reward_batch, is_done_batch = map(np.array, zip(*sample))\n",
        "\n",
        "            state_batch = torch.from_numpy(state_batch).to(device, dtype=torch.float)\n",
        "            action_batch = torch.from_numpy(action_batch.astype(np.int64)).to(device)\n",
        "            next_state_batch = torch.from_numpy(next_state_batch).to(device, dtype=torch.float)\n",
        "            reward_batch = torch.from_numpy(reward_batch).to(device, dtype=torch.float)\n",
        "            is_not_done_batch = torch.from_numpy(1 - is_done_batch).to(device)\n",
        "\n",
        "            q_values = q_network(state_batch)[torch.arange(BATCH_SIZE), action_batch]\n",
        "            with torch.no_grad():\n",
        "                next_q_values = target_network(next_state_batch).max(dim=1)[0]\n",
        "                expected_q_values = (is_not_done_batch * GAMMA * next_q_values) + reward_batch\n",
        "                \n",
        "            # what loss function should we use here?\n",
        "            loss = F.mse_loss(q_values, expected_q_values)\n",
        "\n",
        "            optimizer.zero_grad()\n",
        "            loss.backward()\n",
        "            optimizer.step()\n",
        "\n",
        "            for target_param, param in zip(target_network.parameters(), q_network.parameters()):\n",
        "                target_param.data.copy_(TAU * param.data + (1.0 - TAU) * target_param.data)\n",
        "\n",
        "        if terminated:\n",
        "            episode_durations.append(t + 1)\n",
        "            episode_returns.append(total_reward)\n",
        "            if (i_episode + 1) % print_every == 0:\n",
        "                print(f'\\nMean reward in last {print_every} episodes: {np.mean(episode_returns[-print_every:])} -- eps:{eps_threshold}')\n",
        "            break\n",
        "        state = next_state\n",
        "    \n",
        "\n",
        "print('Complete')\n",
        "plt.plot(range(1, num_episodes+1), episode_durations);"
      ]
    },
    {
      "cell_type": "code",
      "execution_count": 41,
      "metadata": {
        "colab": {
          "base_uri": "https://localhost:8080/",
          "height": 539
        },
        "id": "1s50clnmF_az",
        "outputId": "7028e0d4-8319-48da-f7c7-cd57278b704a"
      },
      "outputs": [
        {
          "output_type": "stream",
          "name": "stderr",
          "text": [
            "WARNING:imageio_ffmpeg:IMAGEIO FFMPEG_WRITER WARNING: input image is not divisible by macro_block_size=16, resizing from (600, 400) to (608, 400) to ensure video compatibility with most codecs and players. To prevent resizing, make your input image divisible by the macro_block_size or set the macro_block_size to 1 (risking incompatibility).\n"
          ]
        },
        {
          "output_type": "execute_result",
          "data": {
            "text/plain": [
              "<IPython.core.display.HTML object>"
            ],
            "text/html": [
              "\n",
              "    <video width=\"640\" height=\"480\" controls>\n",
              "    <source src=\"data:video/mp4;base64,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\" type=\"video/mp4\">\n",
              "    Your browser does not support the video tag.\n",
              "    </video>"
            ]
          },
          "metadata": {},
          "execution_count": 41
        }
      ],
      "source": [
        "# Render trained model\n",
        "\n",
        "create_policy_eval_video(env, lambda s: greedy_policy(q_network, s), \"trained_agent\")"
      ]
    },
    {
      "cell_type": "code",
      "execution_count": null,
      "metadata": {
        "id": "uM5dPBUyEHQe"
      },
      "outputs": [],
      "source": []
    }
  ],
  "metadata": {
    "colab": {
      "provenance": []
    },
    "gpuClass": "standard",
    "kernelspec": {
      "display_name": "Python 3",
      "name": "python3"
    },
    "language_info": {
      "codemirror_mode": {
        "name": "ipython",
        "version": 3
      },
      "file_extension": ".py",
      "mimetype": "text/x-python",
      "name": "python",
      "nbconvert_exporter": "python",
      "pygments_lexer": "ipython3",
      "version": "3.10.9"
    },
    "accelerator": "GPU"
  },
  "nbformat": 4,
  "nbformat_minor": 0
}