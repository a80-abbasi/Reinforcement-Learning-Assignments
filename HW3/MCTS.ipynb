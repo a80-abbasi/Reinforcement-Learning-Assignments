{
 "cells": [
  {
   "cell_type": "markdown",
   "metadata": {
    "cell_id": "96a1be8a2e9f4a1980fdbe0fa0e738ce",
    "deepnote_cell_type": "markdown"
   },
   "source": [
    "# Monte-carlo Tree Search\n",
    "\n",
    "\n",
    "In this notebook, we'll implement a MCTS planning and use it to solve a Gym env.\n",
    "\n",
    "![image.png](https://i.postimg.cc/6QmwnjPS/image.png)"
   ]
  },
  {
   "cell_type": "markdown",
   "metadata": {
    "cell_id": "964899ece4104376be22f5b951e5f420",
    "deepnote_cell_type": "markdown"
   },
   "source": [
    "__How it works?__\n",
    "We just start with an empty tree and expand it. There are several common procedures.\n",
    "\n",
    "__1) Selection__\n",
    "Starting from the root, recursively select the node that corresponds to the tree policy.  \n",
    "\n",
    "There are several options for tree policies, which we saw earlier as exploration strategies: epsilon-greedy, Thomson sampling, UCB-1. It was shown that in MCTS, UCB-1 achieves a good result. Further, we will consider the one, but you can try to use others.\n",
    "\n",
    "Following the UCB-1 tree policy, we will choose an action that, on one hand, we expect to have the highest return, and on the other hand, we haven't explored much.\n",
    "\n",
    "$$\n",
    "\\DeclareMathOperator*{\\argmax}{arg\\,max}\n",
    "$$\n",
    "\n",
    "$$\n",
    "\\dot{a} = \\argmax_{a} \\dot{Q}(s, a)\n",
    "$$\n",
    "\n",
    "$$\n",
    "\\dot{Q}(s, a) = Q(s, a) + C_p \\sqrt{\\frac{2 \\log {N}}{n_a}}\n",
    "$$\n",
    "\n",
    "where: \n",
    "- $N$ - number of times we have visited state $s$,\n",
    "- $n_a$ - number of times we have taken action $a$,\n",
    "- $C_p$ - exploration balance parameter, which is performed between exploration and exploitation. \n",
    "\n",
    "Using Hoeffding inequality for rewards $R \\in [0,1]$ it can be shown that optimal $C_p = 1/\\sqrt{2}$. For rewards outside this range, the parameter should be tuned. We'll be using 10, but you can experiment with other values.\n",
    "\n",
    "__2) Expansion__\n",
    "After the selection procedure, we can achieve a leaf node or node in which we don't complete actions. In this case, we expand the tree by feasible actions and get new state nodes. \n",
    "\n",
    "__3) Simulation__\n",
    "How we can estimate node Q-values? The idea is to estimate action values for a given _rollout policy_ by averaging the return of many simulated trajectories from the current node. Simply, we can play with random or some special policy or use some model that can estimate it.\n",
    "\n",
    "__4) Backpropagation__\n",
    "The reward of the last simulation is backed up through the traversed nodes and propagates Q-value estimations, upwards to the root.\n",
    "\n",
    "$$\n",
    "Q({\\text{parent}}, a) = r + \\gamma \\cdot Q({\\text{child}}, a)\n",
    "$$"
   ]
  },
  {
   "cell_type": "code",
   "execution_count": 1,
   "metadata": {},
   "outputs": [
    {
     "data": {
      "text/plain": [
       "[gym 0.21.0 (c:\\users\\mrq\\appdata\\roaming\\python\\python310\\site-packages),\n",
       " cloudpickle 2.2.1 (c:\\programdata\\miniconda3\\lib\\site-packages),\n",
       " numpy 1.23.5 (c:\\programdata\\miniconda3\\lib\\site-packages)]"
      ]
     },
     "execution_count": 1,
     "metadata": {},
     "output_type": "execute_result"
    }
   ],
   "source": [
    "import pkg_resources\n",
    "pkg_resources.require(\"gym==0.21.0\")"
   ]
  },
  {
   "cell_type": "code",
   "execution_count": 2,
   "metadata": {
    "cell_id": "a21811d38df94892b5e8d81161fbfde6",
    "deepnote_cell_type": "code"
   },
   "outputs": [],
   "source": [
    "import sys, os\n",
    "import numpy as np\n",
    "import matplotlib.pyplot as plt\n",
    "%matplotlib inline"
   ]
  },
  {
   "cell_type": "markdown",
   "metadata": {
    "cell_id": "e8326f43f33a4416a654d417809f349d",
    "deepnote_cell_type": "markdown"
   },
   "source": [
    "We first need to make a wrapper for Gym environments to allow saving and loading game states to facilitate backtracking."
   ]
  },
  {
   "cell_type": "code",
   "execution_count": 3,
   "metadata": {
    "cell_id": "77e5f887a3844683a8cd454f573bf8d8",
    "deepnote_cell_type": "code"
   },
   "outputs": [],
   "source": [
    "import gym\n",
    "from gym.core import Wrapper\n",
    "from pickle import dumps, loads\n",
    "from collections import namedtuple\n",
    "\n",
    "\n",
    "ActionResult = namedtuple(\"action_result\", (\"snapshot\", \"observation\", \"reward\", \"is_done\", \"info\"))\n",
    "\n",
    "\n",
    "class WithSnapshots(Wrapper):\n",
    "    # Creates a wrapper that supports saving and loading environemnt states.\n",
    "    # Required for planning algorithms.\n",
    "\n",
    "\n",
    "    def get_snapshot(self, render=False):\n",
    "        # returns environment state that can be loaded with load_snapshot.\n",
    "        \n",
    "        \n",
    "        if render:\n",
    "            self.render()  \n",
    "            self.close()\n",
    "            \n",
    "        if self.unwrapped.viewer is not None:\n",
    "            self.unwrapped.viewer.close()\n",
    "            self.unwrapped.viewer = None\n",
    "        return dumps(self.env)\n",
    "    \n",
    "\n",
    "    def load_snapshot(self, snapshot, render=False):\n",
    "        # loads snapshot as current env state.\n",
    "        \n",
    "        assert not hasattr(self, \"_monitor\") or hasattr(self.env, \"_monitor\"), \"can't backtrack while recording\"\n",
    "\n",
    "        if render:\n",
    "            self.render()  \n",
    "            self.close()\n",
    "        self.env = loads(snapshot)\n",
    "        \n",
    "\n",
    "    def get_result(self, snapshot, action):\n",
    "        # returns next snapshot and everything that env.step would have returned.\n",
    "        \n",
    "        self.load_snapshot(snapshot, render=False)\n",
    "        next_observation, reward, is_done, info = self.step(action)\n",
    "        next_snapshot = self.get_snapshot()\n",
    "        return ActionResult(next_snapshot, next_observation, reward, is_done, info)"
   ]
  },
  {
   "cell_type": "markdown",
   "metadata": {
    "cell_id": "6e73f4a5cf6d47c4aa5f559f6a04bf8f",
    "deepnote_cell_type": "markdown"
   },
   "source": [
    "### Try out snapshots"
   ]
  },
  {
   "cell_type": "code",
   "execution_count": 4,
   "metadata": {
    "cell_id": "f1319deede264069ac29749fc06d36ca",
    "deepnote_cell_type": "code"
   },
   "outputs": [
    {
     "data": {
      "text/plain": [
       "2"
      ]
     },
     "execution_count": 4,
     "metadata": {},
     "output_type": "execute_result"
    }
   ],
   "source": [
    "# make env\n",
    "env = WithSnapshots(gym.make(\"CartPole-v0\"))\n",
    "env.reset()\n",
    "\n",
    "n_actions = env.action_space.n\n",
    "n_actions"
   ]
  },
  {
   "cell_type": "code",
   "execution_count": 5,
   "metadata": {
    "cell_id": "a92ac001af624e07978c6475e66e558f",
    "deepnote_cell_type": "code"
   },
   "outputs": [
    {
     "name": "stdout",
     "output_type": "stream",
     "text": [
      "initial_state:\n"
     ]
    },
    {
     "name": "stderr",
     "output_type": "stream",
     "text": [
      "C:\\Users\\MRQ\\AppData\\Roaming\\Python\\Python310\\site-packages\\pyglet\\image\\codecs\\wic.py:406: UserWarning: [WinError -2147417850] Cannot change thread mode after it is set\n",
      "  warnings.warn(str(err))\n"
     ]
    },
    {
     "data": {
      "image/png": "[encoded data removed]",
      "text/plain": [
       "<Figure size 640x480 with 1 Axes>"
      ]
     },
     "metadata": {},
     "output_type": "display_data"
    }
   ],
   "source": [
    "print(\"initial_state:\")\n",
    "plt.imshow(env.render('rgb_array'))\n",
    "env.close()\n",
    "\n",
    "# create first snapshot\n",
    "snap0 = env.get_snapshot()"
   ]
  },
  {
   "cell_type": "code",
   "execution_count": 6,
   "metadata": {},
   "outputs": [
    {
     "data": {
      "text/plain": [
       "b'\\x80\\x04\\x95\\xf4\\x14\\x00\\x00\\x00\\x00\\x00\\x00\\x8c\\x17gym.wrappers.time_limit\\x94\\x8c\\tTimeLimit\\x94\\x93\\x94)\\x81\\x94}\\x94(\\x8c\\x03env\\x94\\x8c!gym.envs.classic_control.cartpole\\x94\\x8c\\x0bCartPoleEnv\\x94\\x93\\x94)\\x81\\x94}\\x94(\\x8c\\x07gravity\\x94G@#\\x99\\x99\\x99\\x99\\x99\\x9a\\x8c\\x08masscart\\x94G?\\xf0\\x00\\x00\\x00\\x00\\x00\\x00\\x8c\\x08masspole\\x94G?\\xb9\\x99\\x99\\x99\\x99\\x99\\x9a\\x8c\\ntotal_mass\\x94G?\\xf1\\x99\\x99\\x99\\x99\\x99\\x9a\\x8c\\x06length\\x94G?\\xe0\\x00\\x00\\x00\\x00\\x00\\x00\\x8c\\x0fpolemass_length\\x94G?\\xa9\\x99\\x99\\x99\\x99\\x99\\x9a\\x8c\\tforce_mag\\x94G@$\\x00\\x00\\x00\\x00\\x00\\x00\\x8c\\x03tau\\x94G?\\x94z\\xe1G\\xae\\x14{\\x8c\\x15kinematics_integrator\\x94\\x8c\\x05euler\\x94\\x8c\\x17theta_threshold_radians\\x94G?\\xca\\xce\\xe9\\xf3{\\xeb\\xd5\\x8c\\x0bx_threshold\\x94G@\\x03333333\\x8c\\x0caction_space\\x94\\x8c\\x13gym.spaces.discrete\\x94\\x8c\\x08Discrete\\x94\\x93\\x94)\\x81\\x94}\\x94(\\x8c\\x01n\\x94K\\x02\\x8c\\x06_shape\\x94)\\x8c\\x05dtype\\x94\\x8c\\x05numpy\\x94h\\x1f\\x93\\x94\\x8c\\x02i8\\x94\\x89\\x88\\x87\\x94R\\x94(K\\x03\\x8c\\x01<\\x94NNNJ\\xff\\xff\\xff\\xffJ\\xff\\xff\\xff\\xffK\\x00t\\x94b\\x8c\\n_np_random\\x94Nub\\x8c\\x11observation_space\\x94\\x8c\\x0egym.spaces.box\\x94\\x8c\\x03Box\\x94\\x93\\x94)\\x81\\x94}\\x94(h\\x1fh!\\x8c\\x02f4\\x94\\x89\\x88\\x87\\x94R\\x94(K\\x03h%NNNJ\\xff\\xff\\xff\\xffJ\\xff\\xff\\xff\\xffK\\x00t\\x94bh\\x1eK\\x04\\x85\\x94\\x8c\\x03low\\x94\\x8c\\x15numpy.core.multiarray\\x94\\x8c\\x0c_reconstruct\\x94\\x93\\x94h \\x8c\\x07ndarray\\x94\\x93\\x94K\\x00\\x85\\x94C\\x01b\\x94\\x87\\x94R\\x94(K\\x01K\\x04\\x85\\x94h0\\x89C\\x10\\x9a\\x99\\x99\\xc0\\xff\\xff\\x7f\\xffPw\\xd6\\xbe\\xff\\xff\\x7f\\xff\\x94t\\x94b\\x8c\\x04high\\x94h6h8K\\x00\\x85\\x94h:\\x87\\x94R\\x94(K\\x01K\\x04\\x85\\x94h0\\x89C\\x10\\x9a\\x99\\x99@\\xff\\xff\\x7f\\x7fPw\\xd6>\\xff\\xff\\x7f\\x7f\\x94t\\x94b\\x8c\\rbounded_below\\x94h6h8K\\x00\\x85\\x94h:\\x87\\x94R\\x94(K\\x01K\\x04\\x85\\x94h!\\x8c\\x02b1\\x94\\x89\\x88\\x87\\x94R\\x94(K\\x03\\x8c\\x01|\\x94NNNJ\\xff\\xff\\xff\\xffJ\\xff\\xff\\xff\\xffK\\x00t\\x94b\\x89C\\x04\\x01\\x01\\x01\\x01\\x94t\\x94b\\x8c\\rbounded_above\\x94h6h8K\\x00\\x85\\x94h:\\x87\\x94R\\x94(K\\x01K\\x04\\x85\\x94hN\\x89C\\x04\\x01\\x01\\x01\\x01\\x94t\\x94bh\\'Nub\\x8c\\tnp_random\\x94\\x8c\\x14numpy.random._pickle\\x94\\x8c\\x12__randomstate_ctor\\x94\\x93\\x94\\x8c\\x07MT19937\\x94\\x85\\x94R\\x94}\\x94(\\x8c\\rbit_generator\\x94h^\\x8c\\x05state\\x94}\\x94(\\x8c\\x03key\\x94h6h8K\\x00\\x85\\x94h:\\x87\\x94R\\x94(K\\x01Mp\\x02\\x85\\x94h!\\x8c\\x02u4\\x94\\x89\\x88\\x87\\x94R\\x94(K\\x03h%NNNJ\\xff\\xff\\xff\\xffJ\\xff\\xff\\xff\\xffK\\x00t\\x94b\\x89B\\xc0\\t\\x00\\x00<f\\x05+\\xa8\\x1b\\x19\\xc7\\xd5\\x96\\xa4\\x152[2N\\xf5\\xc5\\xc4\\xc8\\x00\\xda\\x02\\x11\\xcd9\\xb3\\xd6#\\x81^N\\xff\\xbb)\\xb5m\\xbcBI\\x7f\\x8b6\\xcd\\x0fR7^\\x7f\\x9b\\x17\\xce\\xb9\\xcc2\\xe8p\\xc5E\\r\\x14g\\xb7\\xf5.\\x9e\\x1c\\xe4Bxb\\x91\\xc77p\\x0bR\\x14x]t^\\x86\\xde\\xb9)\\xfd\\x0by\\x1a\\x90\\xcc\\xa8\\xca\\x85\\xa1g\\xa2I>\\x10\\x9c*m\\xef\\xbd\\xda\\xd4&\\x96)\\x92u\\x19\\xdfd\\xf4\\xf8\\xaf\\xca\\xcd[E*\\xb1CB|\\x9f6l=Y\\x1c\\xebKL\\xbf\\xab;z`\\xf9x$\\xa7\\xaa\\x0e?\\xbe\\x84\\x93*~@\\xac\\\\\\x86\\xd3\\x18\\x90uh\\x9e\\xc5\\x11c\\xb3\\x13\\xa5\\xa5\\xf3P\\xea3\\xaa\\xf5`\\x05\\xb6\\xe0\\\\\"\\xe4\\t\\xe5\\xbe\\xde\\x8e\\xeb\\xc1\\x86Eh6\\xc4\\xf0\\xc9\\x08\\xcbLg\\xfe\\xa5\\x99\\x1f\\xff\\x12<\\xa3\\x1d\\x91\\x92\\xe5\\xe7s\\x87AE\\x90\\xce\\xb4P\\xec\\xd5d\\x02{d4\\xc8\\x1d{\\xady\\x92\\x08\\x17\\xe0\\xa2l:o\\xbf\\xe247@\\x81nGd,\\xfbv6\\xb9\\xfb\\xf8\\xd3\\n\\xb1\\x85\\x18s\\xe4\\xd4\\xe0\\x0f\\x0fU\\xf6\\xd2\\x13\\xd1\\xd3\\x91\\xff\\xba)\\xd9\\x8d4\\xfa\\xc7s\\xaa\\x0c@j\\x0e\\x15+\\x93p\\xe6\\x05\\xb0\\x1f>\\xacP\\x82kzV\\x9c%\\x82\\x02\\xd26\\xea\\xc1\\rv\\xa0\\xd3\\x15;\\xcb\\xbb*j\\x18v<C\\x91\\xbb\\xfc\\x1e\\x03\\xdd{\\xf5\\xb8A*A7\\xe8\\xd2\\x0e\\xa1\\xefPXj+\\xe9V0\\xd8\\xe9\\x9f.$\\xa9S\\x81\\xb1\\x9c\\xe4O\\x03\\xfdz\\xbf\\xe4\\xb9\\xb0_\\xf8\\xf53\\xf0\\xd5x\\xd2\\xec\\xa3\\xdb\\xbe\\x12\\xb8\\xd0\\xfd\\xfbb\\n\\x8c\\x0fO\\x1d\\x85\\x9f9\\x90x!\\x1ed\\x0c\\xb3\\xbd}\\r3p\\xa8\\r*\\xdeN\\x8a\\xfd\\xe7\\xf6\\xe5\\xc1MM\\xdd\\x87\\x91W\\xec\\x074\\x9e}\\x81\\xf5\\xd1J\\x80`\\x14\\xb0D\\x90k\\xd5p\\xe2<\\xf6\\xbf4\\xf1\\xcd&\\x8e\\xd7N\\x15\\x06\\x99\\xca\\xea\\xb0\\xbf\\x00\\x86\\x9f\\x91A\\xd7\\xb9\\xc4d\\xc1>\\xc9\\x13\\xda\\xe6\\x0b%\\xc4\\xd0u\\x1d\\x9e\\x1240\\xf3\\xe6S=\\xcd}\\xa3\\xc0\\xc8X\\xfdl\\x7fxK\\x90\\xa5(\\x94\\xbdI\\xd4\\xc8zY\\x9bQ\\xdc\\x0e\\x00X\\xde\\x19\\x01\\xd3\\xba\\xd1Y\\x83\\xd2\\xd5\\xd2_|Av\\xc3!\\xe5~x\\x10b\\xae\\xb9\\x7f\\x8fN\\x9dm\\xe7M\\xc3-&\\xad8\\xab\\xa7)\\xe2Y.\\x11\\'h\\x0c\\xc0.\\xc1\\xa9\\x17Ab\\x03\\xdb\\xda\\x0f\\xa6\\x80\\xf7$\\xdb?\\xa1\\xf3\\x02\\x17\\xd3\\x8f-CZ\\xe26\\x93|\\xb0[\\x05\\xf0\\t\\xf4\\x96\\x90u\\n\\xd2\\xb60D\\xd7k\\x88\\xf3g\\x1e0S\\xad\\x1a\\x8dn\\x17\\xb3\\xf1\\x02\\x01\\xact\\xa1\\x1b\\x02?\\xac5\\x87\\xbd\\xf9b\\xce\\x949\\xb5\\xb6O\\xbf\\xa2\\xdd\\xcb;`\\xba\\xa78\\xb6\\x87w\\n\\xd4b\\xabQt\\xae\\xb1\\x0e`|\\xf9\\xe3\\xa7B\\xb3\\xa6\\xff:o\\xb7Bp<\\xc6\\x11m8\\xc6\\xf2W\"\\x9d\\xdfH\\xdd8\\x08b\\xc36p\\x1a\\x8e\\xa3\\x0b\\x84M\\xe2\\xdb]\\xa4\\xb1rS\\xc7o\\xd1\\x9e\\xdeH\\xfa\\xcb\\xf1\\xf8M`1+\\xcf\\x14EX\\xc9\\xeeH\\xc5\\x8e[:n/n!\\xb2\\tXJ\\x0fT\\xf8\\x893(\\xdboJ\\xaas\\xa3%\\xe4\\xb8\\xb7X\\x9b\\xc7R\\x9cp\\x16>H\\xcb \\x15\\x19\\xf8\\xd7a/\\xb5LE9e\\xdaa\\x8bJt\\xb6~/\\xc2\\xed%\\xd6\\xe0W}\\x82f\\x1f\\xce\\xec\\xf0\\x10~\\xa7\\xa1y\\x1di{}\\xaf$Dl\\xd8\\xf3\\xc5c\\xf7-\\xfe\\xec\\xd7f\\x0e\\xe9\\xaa\\x95\\x82\\x1aA\\xf2\\xe6o\\x0f\\x1e\\xf5\\x05\\xeaO\\'R\\xec\\xba\\x0e3v\\xdb,\\xbfS\\xdc\\x1e\\xff\\x0b\\xdd\\rX\\x87{\\x10\\x04\\xa6\\x934\\r\\x0bOMq\\xfbe\\xf7ci\\xc1\\x00\\x17\\xe1D\\xe0\\x1c\\x0c\\xfd5\\xff\\xd2@,7~D\\x16\\xf9\\x83\\x06\\x96\\x92\\xe1\\x8d!\\xb2{A\\x81\\xb0\\xd1V\\xe4\\x1a5\\xb8\\xee\\xf0\\x87\\x8f\\x05f\\x8d\\x00\\x16\\x0cd\\xab\\x1b\\xaf\\xc5\\xf9\\xa9\\x7f\\xee\\xc5\\x15\\xab\\x7f\\rU \\xc6P9\\xb5~\\x9a\\x0c\\xc0A\\xdd\\xcbB\\xb9\\x1c\\xeb\\x9e\\xdd\\xcc\\xdb*\\xe3T}y\\xb7\\x9d\\xfc\\x11Gk\\x9e\\x8a\\xc8Y@\\x95\\xe85f\\xfdCl~\\xc7+\\x9d\\xdd\\xfc\\xe6\\xfb\\xf0\\xc5/zux\\x1d\\xd4:\\x8dL\\xa3\\n\\x02\\x1e\\t\\xe4\\xd9\\xae\\x11\\xcd\\x10\\xe1\\xb0\\rn\\x90[\\x91i?\\x94\\x975\\x03\\x00\\xa6\\xf4\\xed\\x0e8\\xf4\\x7f\\xa7\\xb7\\t\\xaa\\xe9\\xd4\\xcd\\xe7\\xbf\\x00/\\xb1\\x03zr\\xe0\\xfb\\xfc\\xf6\\xd6\\x98\\xa6Q\\xecIF\\x95\\xce\\x17\\x89\\x96\\x82\\x08y\\xa0\\xfdq\\xf2b\\xe7\\x04Dw\\xc5\\xe6\\xcc\\xf2\\xc9\"x\\xd9\\\\\\xdbt\\xbdy\\xe7\\xb3o\\xa1\\xa6Sx\\x99\\xd7-EJ\\xaaW\\xfad\\xf1\\xa4\\x9a\\x92<\\xb3L\\xe9\\xdcG\\x066\\xeb\\x13\\xc5\\xea\\xcd\\xc1\\xcd\\xa2\\x92\\xa2J\\x8aV\\xb2I\\n\\xf8\\xe7\\xe4r\\xa3*\\xc0\\xd4\\xe5\\x9b\\x95\\xd5\\xddf\\xb7k\\xc5\\xbc\\xef?O&\\xe7\\xae\\xc9t3\\xb2=|\\xde\\xc6\\x0e{z\\xee\\xbe\\xd4(M\\x06\\x0b\\xdd\\x04\\x81\\x88\\xa9\\xd9Y\\x01wV\\xe2`A\\xfdH$h\\xe1-\\xfa\\xc1;\\x80\\xe2\\x9aFH\\xeaIzy\\xe7\\xa8\\xd6O#\\xc3\\xc2#\\xcb\\x82\\xf7<\\xc3\\xd8Ku\\x9d\\xf0DJ\\x17\\xa5AW\\'3n\\x8d\\xd1\\x93\\xd7^q\\x0ck\\xb8\\x9d\\x0e\\xdd>\\xbeR\\x1a\\x1c8\\xc5\\x91.\\xa2\\xb4\\xdf\\xe1\\x7fATYT4\\xf9\\x0f\\xbc\\x91[\\xde\\x87\\xb5@N_\\x11o\\x0c\\xce\\x98w\\x10\\xf4\\x95C\\xae\\xe3@\\xb8\\xbd\\xbd\\xe1@\\x0c\\xf6\\xa1\\x18\\xfaZ\\xde\\xd6)\\xd2\\xec9@\\x95\\xf0\\xc2\\xaf:\\x08zc\\x8e\\x90u\\xeb\\xa0+\\x8186fF\\x05\\x92\\xa0\\xd1u\\x03\\xcc$p\\x1d\\xe09\\xf4~l\\xe8\\xd8m_+\\xfc\\x1f\\x9e\\xee\\x8a\\x8c\\xfct\\xba\\x86\\x86\\r\\xf5\\x90\\xa9\\xa6\\xa0\\xdcg\\xca\\x13\\n\\xa3\\xbf\\x0e\\xa8\\x99\\xe0\\x07\\x02\\xb9/\\xae\\\\\\xf3\\xf6\\xdc\\xbepG\\x95\\xbc\\xefw\\x7fS\\x16Cx\"\\x1a\\xba\\xed\\x15\\xdf\\xdbw\\xa1:\\x12\\xc9\\r`\\'\\xae\\x8c+fi\\xd9\\x10\\xac\\x88\\xec\\xa4\\xc34H\\x0bth\\x9d\\xef\\x8f.\\x87\\xd4\\xea\\xd7\\xb5\\x94\\x01\\xe6fI\\x91\\x80\\xaa\\xcaq\\xef5u:\\xee\\x01\\x96\"\\xf7!\\xfc\\xb2\\x91fl\\xba\\x0cd\\xbdp\\xa4\\xe8;\\xfc>9\\xac\\xf8bl\\xa7\\xb8\\xfc\\xfd\\xcd\\xad\\xb8/\\x99\\x80\\x89\\xcf\\x936\\xfe\\xc4\\x8f\\xab\\x98/Ayo\\xaeB\\xfe\\xc0Fj\\xea\\x81b\\xd8`\\x18\\xc2\\tkmk\\x1c\\x1c\\'\\xd8\\xb1\\x0e\\xfd\\xf0\\x13\\x8f\\xaf\\xa7\\xc2E\\xac\\xb3\\xf3b\\xe6\\xcbA.\"\\xd0ax\\xf9H\\xb1\\xdbZ%\\xa8i\\xaa\\xd1\\xb9\\xa0\\x91\\xd5l\\x94\\x14|i\\x1d\\xfd\\xb5H\\xf1}A\\x7f\\x97\\xa9#\\xc1\\x0e\\x1dgC\\xc7~\\x90\\nb\\xbe\\xa0\\x13N\\xe2l\\x1e!\\xde\\x00\\xc3\\xf2\\r\\x8aX\\xf8CP\\xe8el.\\xe4\\t\\x87pD\\x89P\\xb2\\ns\\x08\\xb9\\xcc\\xa2\\xb1\\xf7\\xb1\\xddS\\xf7L\\x87\\x95\\xb3\\xe9\\xfc\\x1f \\x9a\\x1c\\xa0\\xc02\\x1b\\xe47\\xa5F.\\xc7\\x8d\\x10\\xd0\\xf4\\x87s\\x04a\\xe0\\xed\\xfe\\x8f\\xb6\\xca\\x10\\xaf\\xda\\xff\\x0eVIM\\xe00os\\xc8V\\xad\\x84$\\x01\\x87W\\xde\\xae5\\x87\\x9e\\xff\\x13p\\xbe\\x12WAc*\\x8d\\xee.!\\xd1\\x87\\xd1\\xd21\\xc5\\x15M84W\\xeb\\xbc\\x8f\\r\\xa7v\\xd0\">\\x18P!\"w\\xe9\\xc2o\\x8e\\x1cPI\\x0e\\xa4\\xe2\\x12\\xde\\xffI\\x17t\\x11w\\x95.\\x04\\xc8\\x10\\xd2\\x96#\\xee\\x14\\x14\\x88\\nGWf#\\xad\\'gA\\x04$\\x18\\x90\\x80}\\xa20\\xfd\\x81f\\x8d\\xd0C\\xc1\\t\\x07\\n\\xc97\"\\xab\\xe7o\\xbd\\\\\\xe2X\\xf2\\x8b\\xbb{\\x01\\xe9\\x85\\x00\\xed\\x87\\x04\\xcdJ\\x14\\xe8\\x00a\\xf7\\xd0\\xa4\\x06[\\x9e[\\x06\\xf3\\x97.N^pH\\x82\\xcb\\x07Tb\\x13\\x99)\\x1c\\x0e\\xf6{0\\x1e\\xe1\\xd1Rc%\\xf0\\xd8tu\\xf4\\x1eL\\xd9\\x15\\x80^\\xa45\\x9f\\xcb2\\xdb\\xb0Q\\xd5\\xfa\\xf0\\x91\\x1cj\\xdc\\xd5\\xc8\\xe1\\xe6H\\x9aX&\\xd5\\xcc\\x00\\xcb\\xaf\\xc1\\x04*@%\\xbe\\x85\\x91\\x92\\x9bt\\xbe\\x99\\xbb0\\x0bmd\\xfc\\xfa\\x1b\\xc0\\xb7\\xa9\\xf2\\xe5\\x93`\\x8bZ\\xf7\\x89\\xe4\\x8dE\\xcf%\\xf3fps\\x1c\\xb2\\xd9\\x85\\xe9\\x06\\xf6\\xb6\\n\\x86$;\\xda\\x8e\\x93\\xddx\\x14\\x85`\\xb6v\\xb2\\xf2\\xedc\\xfd\\x83\\xab\\xad\\xe4\\x94Lj\\xda\\xccn?\\xf8\\x92Tkd )\\r^\\xe2\\xa2+\\xcap\\x98?\\xc4\\xa8\\xc7:|%H\\xd8\\xb3$\\x9b\\xee\\x0fY~(21zq\\xa0\\xebr\\x83\\x1f\\x9c\\xbes\\xd1\\x85\\x0e\\xf9E>Y4y\\'\\x1b_\\x07\\x7f\\x93`9e@\\x89\\x14\\x92\\x84\\xcf0_\\xd4\\xc4U\\xedD\\x106p\\xcb\\xad\\x8dS~\\xa47`LA:c\\xa0|n#\\xaa\\x00\\xdc\\xed\\xdf\\'\\x89\\x08w\\xb6V\\x8fA,]\\xe1\\xf4\\xa9\\x89*\\xeb\\xd5<\\xa2F\\xc2\\x9bG`h\\xec\\x0e\\xb6\\xe4\\x9e\\xb9\\xb6\\x0b\\xfd\\xb5}\\x8c\\x95\\\\\\xf6\\xd58E\\x1a\\xd0\\xc4\\n\\xdf\\x1f\\xf4\\x04\\xbd\\xd5\\xdd\\xad\\xc2\\xf8 g\\xaf\\xf8|\\x0e50{\\\\7\\xe1\\x93\\xfe\\xbe_\\xe5\\xdd+SK\\x1f\\xae\\xccBq\\x92,\\xe8\\x12YO\\xb6\\xaf\\xc7 \\x89L\\xd3\\xf1\\x88\\x07\\xa7SS\\x06S\\xa7\\xa2\\xfb},V\\xf6\\xe6g\\xa5v\\xb7\\xd2\\xfc\\x0c\\x80\\x7f\\xa0>0\\x8e\\xfd\\xb0\\x87@Qd\\x15\\xef\\x0c\\x1b`\\x86\\xbaG\\xe2\\x1cX\\x07sJU96N\\xc5W\\xb1\\xc3\\x1e)\\x91\\x82P\\xf1\\xde\\xf1f\\xe0\\xc8\\x00\\xe3\\x95x4\\xb6l\\x9b\\xd6\\x14\\xcdH\\x1bkf\\xf1\\xed\\x99i_6\\x8b\\x7f0\\x89\\xa9\\x0b\\xed\\xbboc`\\x0c\\x9b\\xf5\\x11\\xe2\\xefy\\xf0\\xa8\\x06s\\x035L\\r!\\x0f\\x0fB\\xb6\\x89%\\xdf8\\xbc0\\x9b\\xd6\\x8d\\x92N\\x96_:\\xae\\xaa\\x0eCR\\n\\xa1\\xcfry\\x1eF\\x98M\\xea+\\xaf;\\x1d\\xc7\\x99\\xca\\xa2\\xd1\\x8df\\x12*\\x04\\r!\\xc0_)\\x86\\xfcYwPe\\x90\\xac\\x01\\x83|r\\xd0m\\xa86\\xe0?%\\xed:c\\x1b>\\x06Y\\xe2{\\xd9\\x19\\xa9\\xed\\xdf\\x1d\\xc2aN\\x1f\\x1d\\xce\\\\`\\xe6\\xef\\x7f\\xbc\\xaf\\r\\xfa\\x93\\'=\\x16*I<r\\xe1\\xa1[\\xee\\xf6\\x82#\\xba\\x92\\x18.@\\'Y\\xb2q\\xc0\\xab\\xb9\\xcb\\xf8*>\\xe1e\\xc1\\r\\xac\\x06\\x13\\xcc\\x96\\x00\\x07BT\\xd2\\xdd^\\xca\\xbe\\x8a\\xb3\\xae\\x04\\x7f\\x90\\x16C[,\\xc2\\x17\\xb0c\\x81\\xdc\\x1ee\\x89\\xf6\\x11Z^\\xc1\\xb7\\xbf\\x81z\\xb5\\xc8\\xb7!\\x0e\\x19\\x8f\\xb4\\xb9t6\\xf62a\\xc0\\x03\\xda\\xbf\\xcaDz\\xd8\\xe0\\x00Z\\x99\\xc67zhf\\xa3\\xd8\\xb5E\\xa2\\xc8\\x93\\x88\\x0b\\x1c\\xe7\\xd3\\x04@\\x8b\\x1dPQ\\xeeK\\x94t\\x94b\\x8c\\x03pos\\x94K\\x08u\\x8c\\thas_gauss\\x94K\\x00\\x8c\\x05gauss\\x94G\\x00\\x00\\x00\\x00\\x00\\x00\\x00\\x00ub\\x8c\\x06viewer\\x94Nhch6h8K\\x00\\x85\\x94h:\\x87\\x94R\\x94(K\\x01K\\x04\\x85\\x94h!\\x8c\\x02f8\\x94\\x89\\x88\\x87\\x94R\\x94(K\\x03h%NNNJ\\xff\\xff\\xff\\xffJ\\xff\\xff\\xff\\xffK\\x00t\\x94b\\x89C \\x80r\\xdd6\\xa8gj?\\xa0\\x89\\\\F\\xd9L_?\\xf8\\xc7\\xa3\\xd9\\xd8\\xf4\\xa2\\xbf/R\\xf0\\x1a\\xdb\\x8a\\xa6\\xbf\\x94t\\x94b\\x8c\\x11steps_beyond_done\\x94N\\x8c\\x04spec\\x94\\x8c\\x15gym.envs.registration\\x94\\x8c\\x07EnvSpec\\x94\\x93\\x94)\\x81\\x94}\\x94(\\x8c\\x02id\\x94\\x8c\\x0bCartPole-v0\\x94\\x8c\\x0bentry_point\\x94\\x8c$gym.envs.classic_control:CartPoleEnv\\x94\\x8c\\x10reward_threshold\\x94G@h`\\x00\\x00\\x00\\x00\\x00\\x8c\\x10nondeterministic\\x94\\x89\\x8c\\x11max_episode_steps\\x94K\\xc8\\x8c\\rorder_enforce\\x94\\x88\\x8c\\x07_kwargs\\x94}\\x94\\x8c\\t_env_name\\x94\\x8c\\x08CartPole\\x94ub\\x8c\\tcarttrans\\x94\\x8c\"gym.envs.classic_control.rendering\\x94\\x8c\\tTransform\\x94\\x93\\x94)\\x81\\x94}\\x94(\\x8c\\x0btranslation\\x94G@r\\xc6rN\\x91e\\x10G@Y\\x00\\x00\\x00\\x00\\x00\\x00\\x86\\x94\\x8c\\x08rotation\\x94G\\x00\\x00\\x00\\x00\\x00\\x00\\x00\\x00\\x8c\\x05scale\\x94G?\\xf0\\x00\\x00\\x00\\x00\\x00\\x00G?\\xf0\\x00\\x00\\x00\\x00\\x00\\x00\\x86\\x94ub\\x8c\\tpoletrans\\x94h\\x94)\\x81\\x94}\\x94(h\\x97G\\x00\\x00\\x00\\x00\\x00\\x00\\x00\\x00G@\\x1e\\x00\\x00\\x00\\x00\\x00\\x00\\x86\\x94h\\x99G?\\xa2\\xf4\\xd8\\xd9\\xa3\\xc7\\xf8h\\x9aG?\\xf0\\x00\\x00\\x00\\x00\\x00\\x00G?\\xf0\\x00\\x00\\x00\\x00\\x00\\x00\\x86\\x94ub\\x8c\\x04axle\\x94h\\x92\\x8c\\rFilledPolygon\\x94\\x93\\x94)\\x81\\x94}\\x94(\\x8c\\x06_color\\x94h\\x92\\x8c\\x05Color\\x94\\x93\\x94)\\x81\\x94}\\x94\\x8c\\x04vec4\\x94(G?\\xe0\\x00\\x00\\x00\\x00\\x00\\x00G?\\xe0\\x00\\x00\\x00\\x00\\x00\\x00G?\\xe9\\x99\\x99\\x99\\x99\\x99\\x9aK\\x01t\\x94sb\\x8c\\x05attrs\\x94]\\x94(h\\xa9h\\x9dh\\x95e\\x8c\\x01v\\x94]\\x94(G@\\x14\\x00\\x00\\x00\\x00\\x00\\x00G\\x00\\x00\\x00\\x00\\x00\\x00\\x00\\x00\\x86\\x94G@\\x13\\x90\\x1d\\x9f\\x8c@PG?\\xf0\\xa2\\x08\\x0b\\xa9w\\x99\\x86\\x94G@\\x12EZM_\\xaf\\xbdG@\\x00D\\xfb\\xb4\\xa3\\xd0\\xc2\\x86\\x94G@\\x10.*\\xc1>\\xf8\\xe9G@\\x07\\x82\\xeb\\xc5\\x92\\xb0\\xf6\\x86\\x94G@\\n\\xc3\\xe5\\xbc\\x9a\\x8e\\xceG@\\r\\xb9\\xcd\\x92@\\xaeq\\x86\\x94G@\\x04\\x00\\x00\\x00\\x00\\x00\\x01G@\\x11R\\x0c\\xd17/\\xea\\x86\\x94G?\\xf8\\xb8\\xab\\x04\\xfb\\xe3\\xa4G@\\x13\\x05h\\xcc\\n\\xb5\\x1f\\x86\\x94G?\\xe0\\xb9|a\\x05\\xb6\\xa3G@\\x13\\xe3\\xf3\\xbd\\x1b@\\xdc\\x86\\x94G\\xbf\\xe0\\xb9|a\\x05\\xb6\\x9dG@\\x13\\xe3\\xf3\\xbd\\x1b@\\xdc\\x86\\x94G\\xbf\\xf8\\xb8\\xab\\x04\\xfb\\xe3\\xa2G@\\x13\\x05h\\xcc\\n\\xb5 \\x86\\x94G\\xc0\\x03\\xff\\xff\\xff\\xff\\xff\\xfeG@\\x11R\\x0c\\xd17/\\xeb\\x86\\x94G\\xc0\\n\\xc3\\xe5\\xbc\\x9a\\x8e\\xcaG@\\r\\xb9\\xcd\\x92@\\xaeu\\x86\\x94G\\xc0\\x10.*\\xc1>\\xf8\\xe8G@\\x07\\x82\\xeb\\xc5\\x92\\xb0\\xf7\\x86\\x94G\\xc0\\x12EZM_\\xaf\\xbeG@\\x00D\\xfb\\xb4\\xa3\\xd0\\xc1\\x86\\x94G\\xc0\\x13\\x90\\x1d\\x9f\\x8c@PG?\\xf0\\xa2\\x08\\x0b\\xa9w\\x99\\x86\\x94G\\xc0\\x14\\x00\\x00\\x00\\x00\\x00\\x00G<\\xe9\\x83\\xeb\\xef\\xf6\\\\\\xc2\\x86\\x94G\\xc0\\x13\\x90\\x1d\\x9f\\x8c@PG\\xbf\\xf0\\xa2\\x08\\x0b\\xa9w\\x94\\x86\\x94G\\xc0\\x12EZM_\\xaf\\xbdG\\xc0\\x00D\\xfb\\xb4\\xa3\\xd0\\xc3\\x86\\x94G\\xc0\\x10.*\\xc1>\\xf8\\xe9G\\xc0\\x07\\x82\\xeb\\xc5\\x92\\xb0\\xf4\\x86\\x94G\\xc0\\n\\xc3\\xe5\\xbc\\x9a\\x8e\\xd0G\\xc0\\r\\xb9\\xcd\\x92@\\xaep\\x86\\x94G\\xc0\\x04\\x00\\x00\\x00\\x00\\x00\\x05G\\xc0\\x11R\\x0c\\xd17/\\xea\\x86\\x94G\\xbf\\xf8\\xb8\\xab\\x04\\xfb\\xe3\\xa6G\\xc0\\x13\\x05h\\xcc\\n\\xb5\\x1f\\x86\\x94G\\xbf\\xe0\\xb9|a\\x05\\xb6\\xc6G\\xc0\\x13\\xe3\\xf3\\xbd\\x1b@\\xdc\\x86\\x94G?\\xe0\\xb9|a\\x05\\xb6\\x8eG\\xc0\\x13\\xe3\\xf3\\xbd\\x1b@\\xdc\\x86\\x94G?\\xf8\\xb8\\xab\\x04\\xfb\\xe3\\x9fG\\xc0\\x13\\x05h\\xcc\\n\\xb5 \\x86\\x94G@\\x04\\x00\\x00\\x00\\x00\\x00\\x01G\\xc0\\x11R\\x0c\\xd17/\\xea\\x86\\x94G@\\n\\xc3\\xe5\\xbc\\x9a\\x8e\\xd0G\\xc0\\r\\xb9\\xcd\\x92@\\xaep\\x86\\x94G@\\x10.*\\xc1>\\xf8\\xe8G\\xc0\\x07\\x82\\xeb\\xc5\\x92\\xb0\\xf8\\x86\\x94G@\\x12EZM_\\xaf\\xbeG\\xc0\\x00D\\xfb\\xb4\\xa3\\xd0\\xc2\\x86\\x94G@\\x13\\x90\\x1d\\x9f\\x8c@PG\\xbf\\xf0\\xa2\\x08\\x0b\\xa9w\\x92\\x86\\x94eub\\x8c\\x05track\\x94h\\x92\\x8c\\x04Line\\x94\\x93\\x94)\\x81\\x94}\\x94(h\\xa6h\\xa8)\\x81\\x94}\\x94h\\xab(K\\x00K\\x00K\\x00K\\x01t\\x94sbh\\xad]\\x94(h\\xd4h\\x92\\x8c\\tLineWidth\\x94\\x93\\x94)\\x81\\x94}\\x94\\x8c\\x06stroke\\x94K\\x01sbe\\x8c\\x05start\\x94K\\x00Kd\\x86\\x94\\x8c\\x03end\\x94MX\\x02Kd\\x86\\x94\\x8c\\tlinewidth\\x94h\\xdaub\\x8c\\n_pole_geom\\x94h\\xa3)\\x81\\x94}\\x94(h\\xa6h\\xa8)\\x81\\x94}\\x94h\\xab(G?\\xe9\\x99\\x99\\x99\\x99\\x99\\x9aG?\\xe3333333G?\\xd9\\x99\\x99\\x99\\x99\\x99\\x9aK\\x01t\\x94sbh\\xad]\\x94(h\\xe5h\\x9dh\\x95eh\\xaf]\\x94(G\\xc0\\x14\\x00\\x00\\x00\\x00\\x00\\x00G\\xc0\\x14\\x00\\x00\\x00\\x00\\x00\\x00\\x86\\x94G\\xc0\\x14\\x00\\x00\\x00\\x00\\x00\\x00G@^\\x00\\x00\\x00\\x00\\x00\\x00\\x86\\x94G@\\x14\\x00\\x00\\x00\\x00\\x00\\x00G@^\\x00\\x00\\x00\\x00\\x00\\x00\\x86\\x94G@\\x14\\x00\\x00\\x00\\x00\\x00\\x00G\\xc0\\x14\\x00\\x00\\x00\\x00\\x00\\x00\\x86\\x94eubub\\x8c\\r_action_space\\x94N\\x8c\\x12_observation_space\\x94N\\x8c\\r_reward_range\\x94N\\x8c\\t_metadata\\x94N\\x8c\\x12_max_episode_steps\\x94K\\xc8\\x8c\\x0e_elapsed_steps\\x94K\\x00ub.'"
      ]
     },
     "execution_count": 6,
     "metadata": {},
     "output_type": "execute_result"
    }
   ],
   "source": [
    "snap0"
   ]
  },
  {
   "cell_type": "code",
   "execution_count": 7,
   "metadata": {
    "cell_id": "a45ce51b5a874edbb459aa447be8b732",
    "deepnote_cell_type": "code"
   },
   "outputs": [
    {
     "name": "stdout",
     "output_type": "stream",
     "text": [
      "Whoops! We died!\n",
      "final state:\n"
     ]
    },
    {
     "data": {
      "image/png": "[encoded data removed]",
      "text/plain": [
       "<Figure size 640x480 with 1 Axes>"
      ]
     },
     "metadata": {},
     "output_type": "display_data"
    }
   ],
   "source": [
    "# play without making snapshots (faster)\n",
    "while True:\n",
    "    is_done = env.step(env.action_space.sample())[2]\n",
    "    if is_done:\n",
    "        print(\"Whoops! We died!\")\n",
    "        break\n",
    "\n",
    "print(\"final state:\")\n",
    "plt.imshow(env.render('rgb_array'))\n",
    "env.close()"
   ]
  },
  {
   "cell_type": "code",
   "execution_count": 8,
   "metadata": {
    "cell_id": "b0c2fd31817149809f3116643a768ece",
    "deepnote_cell_type": "code"
   },
   "outputs": [
    {
     "name": "stdout",
     "output_type": "stream",
     "text": [
      "\n",
      "\n",
      "After loading snapshot\n"
     ]
    },
    {
     "data": {
      "image/png": "[encoded data removed]",
      "text/plain": [
       "<Figure size 640x480 with 1 Axes>"
      ]
     },
     "metadata": {},
     "output_type": "display_data"
    }
   ],
   "source": [
    "# reload initial state\n",
    "env.load_snapshot(snap0)\n",
    "\n",
    "print(\"\\n\\nAfter loading snapshot\")\n",
    "plt.imshow(env.render('rgb_array'))\n",
    "env.close()"
   ]
  },
  {
   "cell_type": "code",
   "execution_count": 9,
   "metadata": {
    "cell_id": "3f287e0d08084287b8f029d5c307fb7b",
    "deepnote_cell_type": "code"
   },
   "outputs": [],
   "source": [
    "# get outcome (snapshot, observation, reward, is_done, info)\n",
    "res = env.get_result(snap0, env.action_space.sample())\n",
    "\n",
    "snap1, observation, reward = res[:3]\n",
    "\n",
    "# second step\n",
    "res2 = env.get_result(snap1, env.action_space.sample())"
   ]
  },
  {
   "cell_type": "markdown",
   "metadata": {
    "cell_id": "a2a09330874e49a6903eefb4598b2e34",
    "deepnote_cell_type": "markdown"
   },
   "source": [
    "# MCTS: Monte-Carlo Tree Search\n",
    "\n",
    "\n",
    "Implementing the `Node` class - a simple class that acts like MCTS node and supports some of the MCTS algorithm steps.\n",
    "\n",
    "This MCTS implementation makes some assumptions about the environment, you can find those _in the notes section at the end of the notebook_."
   ]
  },
  {
   "cell_type": "code",
   "execution_count": 10,
   "metadata": {
    "cell_id": "6c22f51b55214ac1b9250185285a5d6e",
    "deepnote_cell_type": "code"
   },
   "outputs": [],
   "source": [
    "assert isinstance(env, WithSnapshots)"
   ]
  },
  {
   "cell_type": "code",
   "execution_count": 13,
   "metadata": {
    "cell_id": "15fc696542104d99b0716137dc3ae654",
    "deepnote_cell_type": "code"
   },
   "outputs": [],
   "source": [
    "class Node:\n",
    "    # a tree node for MCTS.\n",
    "    \n",
    "    parent = None  # parent Node\n",
    "    qvalue_sum = 0.  # sum of Q-values from all visits \n",
    "    times_visited = 0  # counter of visits \n",
    "\n",
    "    \n",
    "    def __init__(self, parent, action):\n",
    "        # Creates and empty node with no children.\n",
    "        \n",
    "        self.parent = parent\n",
    "        self.action = action\n",
    "        self.children = set()  # set of child nodes\n",
    "\n",
    "        # get action outcome and save it\n",
    "        res = env.get_result(parent.snapshot, action)\n",
    "        self.snapshot, self.observation, self.immediate_reward, self.is_done, _ = res\n",
    "        \n",
    "\n",
    "        \n",
    "    def is_leaf(self):\n",
    "        return len(self.children) == 0\n",
    "    \n",
    "    \n",
    "\n",
    "    def is_root(self):\n",
    "        return self.parent is None\n",
    "    \n",
    "    \n",
    "\n",
    "    def get_qvalue_estimate(self):\n",
    "        return self.qvalue_sum / self.times_visited if self.times_visited != 0 else 0\n",
    "    \n",
    "\n",
    "    \n",
    "    def ucb_score(self, scale=10, max_value=1e100):\n",
    "        # param scale: Multiplies upper bound by that. From Hoeffding inequality, assumes reward range to be [0, scale].\n",
    "        # param max_value: a value that represents infinity (for unvisited nodes).\n",
    "\n",
    "        if self.times_visited == 0:\n",
    "            return max_value\n",
    "\n",
    "        score = self.get_qvalue_estimate()\n",
    "        score += scale * np.sqrt(2 * np.log(self.parent.times_visited) / float(self.times_visited))\n",
    "        return score\n",
    "        \n",
    "        \n",
    "        \n",
    "    \n",
    "    def select_best_leaf(self):\n",
    "        # return the leaf with the highest priority to expand.\n",
    "        # hint: recursively pick nodes with the best UCB-1 score until it reaches a leaf.\n",
    "\n",
    "        if self.is_leaf():\n",
    "            return self\n",
    "\n",
    "        children = list(self.children)\n",
    "        best_child = children[np.argmax([child.ucb_score() for child in children])]\n",
    "        return best_child.select_best_leaf()\n",
    "        \n",
    "        \n",
    "    def expand(self):\n",
    "        # expands the current node by creating all possible child nodes.\n",
    "        # returns one of those children.\n",
    "        \n",
    "        assert not self.is_done, \"can't expand from terminal state\"\n",
    "\n",
    "        for action in range(n_actions):\n",
    "            self.children.add(Node(self, action))\n",
    "\n",
    "        return self.select_best_leaf()\n",
    "    \n",
    "    \n",
    "\n",
    "    def rollout(self, t_max=10**4):\n",
    "        \n",
    "        # set env into the appropriate state\n",
    "        env.load_snapshot(self.snapshot)\n",
    "        obs = self.observation\n",
    "        is_done = self.is_done\n",
    "        \n",
    "        # Play the game from this state to the end (done) or for t_max steps.\n",
    "        # On each step, pick action at random (hint: env.action_space.sample()).\n",
    "        \n",
    "        # Compute sum of rewards from current state till \n",
    "        # Note 1: use env.action_space.sample() for random action\n",
    "        # Note 2: if node is terminal (self.is_done is True), just return 0\n",
    "        \n",
    "        # return rollout_reward  \n",
    "\n",
    "        if is_done:\n",
    "            return 0\n",
    "\n",
    "        rollout_reward = 0\n",
    "        for _ in range(t_max):\n",
    "            action = env.action_space.sample()\n",
    "            _, reward, is_done, _ = env.step(action)\n",
    "            rollout_reward += reward\n",
    "            if is_done:\n",
    "                break\n",
    "        \n",
    "        return rollout_reward\n",
    "\n",
    "        \n",
    "        \n",
    "    def propagate(self, child_qvalue):\n",
    "        # Uses child Q-value (sum of rewards) to update parents recursively.\n",
    "        \n",
    "        # compute node Q-value\n",
    "        my_qvalue = self.immediate_reward + child_qvalue\n",
    "\n",
    "        # update qvalue_sum and times_visited\n",
    "        self.qvalue_sum += my_qvalue\n",
    "        self.times_visited += 1\n",
    "\n",
    "        # propagate upwards\n",
    "        if not self.is_root():\n",
    "            self.parent.propagate(my_qvalue)\n",
    "\n",
    "            \n",
    "            \n",
    "    def safe_delete(self):\n",
    "        # safe delete to prevent memory leak in some python versions \n",
    "        del self.parent\n",
    "        for child in self.children:\n",
    "            child.safe_delete()\n",
    "            del child"
   ]
  },
  {
   "cell_type": "code",
   "execution_count": 12,
   "metadata": {
    "cell_id": "dff86f659a0641e7b0256486de58734f",
    "deepnote_cell_type": "code"
   },
   "outputs": [],
   "source": [
    "class Root(Node):\n",
    "    def __init__(self, snapshot, observation):\n",
    "        # creates special node that acts like tree root\n",
    "        \n",
    "        self.parent = self.action = None\n",
    "        self.children = set()  # set of child nodes\n",
    "\n",
    "        # root: load snapshot and observation\n",
    "        self.snapshot = snapshot\n",
    "        self.observation = observation\n",
    "        self.immediate_reward = 0\n",
    "        self.is_done = False\n",
    "\n",
    "    @staticmethod\n",
    "    def from_node(node):\n",
    "        # initializes node as root\n",
    "        root = Root(node.snapshot, node.observation)\n",
    "        # copy data\n",
    "        copied_fields = [\"qvalue_sum\", \"times_visited\", \"children\", \"is_done\"]\n",
    "        for field in copied_fields:\n",
    "            setattr(root, field, getattr(node, field))\n",
    "        return root"
   ]
  },
  {
   "cell_type": "markdown",
   "metadata": {
    "cell_id": "27de95c593e84485a84fc4881c32b77d",
    "deepnote_cell_type": "markdown"
   },
   "source": [
    "## Main MCTS Loop\n"
   ]
  },
  {
   "cell_type": "code",
   "execution_count": 14,
   "metadata": {
    "cell_id": "7d9cc3774eb2440a8eef193a66540218",
    "deepnote_cell_type": "code"
   },
   "outputs": [],
   "source": [
    "def plan_mcts(root, n_iters=10):\n",
    "    # build tree with monte-carlo tree search for n_iters iterations\n",
    "    \n",
    "    # Hint: for n_iters: select best leaf, expand it, perform a rollout from it, propagate the results upwards.\n",
    "    # Note: don't forget to check the is_done condition in the loop\n",
    "    \n",
    "    for _ in range(n_iters):\n",
    "        leaf = root.select_best_leaf()\n",
    "        if leaf.is_done:\n",
    "            leaf.propagate(0)\n",
    "        else:\n",
    "            child = leaf.expand()\n",
    "            child_value = child.rollout()\n",
    "            child.propagate(child_value)"
   ]
  },
  {
   "cell_type": "markdown",
   "metadata": {
    "cell_id": "efd67dee330149acbc9b6836fe62e120",
    "deepnote_cell_type": "markdown"
   },
   "source": [
    "## Plan and execute\n",
    "\n",
    "Here we use our MCTS implementation to find the optimal policy."
   ]
  },
  {
   "cell_type": "code",
   "execution_count": 15,
   "metadata": {
    "cell_id": "2e68ead807ee43bbbfa741e9ecfc32e7",
    "deepnote_cell_type": "code"
   },
   "outputs": [],
   "source": [
    "env = WithSnapshots(gym.make(\"CartPole-v0\"))\n",
    "root_observation = env.reset()\n",
    "root_snapshot = env.get_snapshot()\n",
    "root = Root(root_snapshot, root_observation)"
   ]
  },
  {
   "cell_type": "code",
   "execution_count": 16,
   "metadata": {
    "cell_id": "2243965714ed4d7caeea7a9774be577f",
    "deepnote_cell_type": "code"
   },
   "outputs": [],
   "source": [
    "# plan from root:\n",
    "plan_mcts(root, n_iters=1000)"
   ]
  },
  {
   "cell_type": "code",
   "execution_count": 17,
   "metadata": {
    "cell_id": "0b68d67912554bc3ba9a1ef4ce3a9b01",
    "deepnote_cell_type": "code"
   },
   "outputs": [
    {
     "data": {
      "image/png": "[encoded data removed]",
      "text/plain": [
       "<Figure size 640x480 with 1 Axes>"
      ]
     },
     "metadata": {},
     "output_type": "display_data"
    },
    {
     "name": "stdout",
     "output_type": "stream",
     "text": [
      "Finished with reward =  200.0\n"
     ]
    }
   ],
   "source": [
    "from IPython.display import clear_output\n",
    "from itertools import count\n",
    "from gym.wrappers import Monitor\n",
    "\n",
    "total_reward = 0  # sum of rewards\n",
    "test_env = loads(root_snapshot)  # env used to show progress\n",
    "\n",
    "for i in count():\n",
    "\n",
    "    # best_child = <select child with the highest mean reward>\n",
    "    best_child = max(root.children, key=lambda child: child.get_qvalue_estimate())\n",
    "    \n",
    "    # take action\n",
    "    s, r, done, _ = test_env.step(best_child.action)\n",
    "\n",
    "    # show image\n",
    "    clear_output(True)\n",
    "    plt.title(\"step %i\" % i)\n",
    "    plt.imshow(test_env.render('rgb_array'))\n",
    "    plt.show()\n",
    "\n",
    "    total_reward += r\n",
    "    if done:\n",
    "        print(\"Finished with reward = \", total_reward)\n",
    "        break\n",
    "\n",
    "    # discard unrealized part of the tree (because not every child matters :()\n",
    "    for child in root.children:\n",
    "        if child != best_child:\n",
    "            child.safe_delete()\n",
    "\n",
    "    # declare best child a new root\n",
    "    root = Root.from_node(best_child)\n",
    "\n",
    "    assert not root.is_leaf(), \\\n",
    "        \"We ran out of tree! Need more planning! Try growing the tree right inside the loop.\"\n",
    "    plan_mcts(root,n_iters=100)"
   ]
  },
  {
   "cell_type": "markdown",
   "metadata": {
    "cell_id": "6842b82f0bfb4652a79207c63049ffab",
    "deepnote_cell_type": "markdown"
   },
   "source": [
    "## Notes\n",
    "\n",
    "\n",
    "#### Assumptions\n",
    "\n",
    "The full list of assumptions is:\n",
    "\n",
    "* __Finite number of actions__: we enumerate all actions in `expand`.\n",
    "* __Episodic (finite) MDP__: while technically it works for infinite MDPs, we perform a rollout for $10^4$ steps. If you are knowingly infinite, please adjust `t_max` to something more reasonable.\n",
    "* __Deterministic MDP__: `Node` represents the single outcome of taking `self.action` in `self.parent`, and does not support the situation where taking an action in a state may lead to different rewards and next states.\n",
    "* __No discounted rewards__: we assume $\\gamma=1$. If that isn't the case, you only need to change two lines in `rollout()` and use `my_qvalue = self.immediate_reward + gamma * child_qvalue` for `propagate()`.\n",
    "* __pickleable env__: won't work if e.g. your env is connected to a web-browser surfing the internet. For custom envs, you may need to modify get_snapshot/load_snapshot from `WithSnapshots`.\n",
    "\n",
    "#### On `get_best_leaf` and `expand` functions\n",
    "\n",
    "This MCTS implementation only selects leaf nodes for expansion.\n",
    "This doesn't break things down because `expand` adds all possible actions. Hence, all non-leaf nodes are by design fully expanded and shouldn't be selected.\n",
    "\n",
    "If you want to only add a few random action on each expand, you will also have to modify `get_best_leaf` to consider returning non-leafs.\n",
    "\n",
    "#### Rollout policy\n",
    "\n",
    "We use a simple uniform policy for rollouts. This introduces a negative bias to good situations that can be messed up completely with random bad action. As a simple example, if you tend to rollout with uniform policy, you better don't use sharp knives and walk near cliffs.\n",
    "\n",
    "You can improve that by integrating a reinforcement _learning_ algorithm with a computationally light agent. You can even train this agent on optimal policy found by the tree search."
   ]
  }
 ],
 "metadata": {
  "deepnote": {},
  "deepnote_execution_queue": [],
  "deepnote_notebook_id": "ccfd687329c94728b8a39ce470d0583d",
  "kernelspec": {
   "display_name": "Python 3",
   "language": "python",
   "name": "python3"
  },
  "language_info": {
   "codemirror_mode": {
    "name": "ipython",
    "version": 3
   },
   "file_extension": ".py",
   "mimetype": "text/x-python",
   "name": "python",
   "nbconvert_exporter": "python",
   "pygments_lexer": "ipython3",
   "version": "3.10.9"
  }
 },
 "nbformat": 4,
 "nbformat_minor": 1
}
